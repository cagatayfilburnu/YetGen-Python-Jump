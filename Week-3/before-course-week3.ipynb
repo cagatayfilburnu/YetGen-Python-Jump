{
  "cells": [
    {
      "cell_type": "markdown",
      "metadata": {
        "id": "tsD4YVAe_Te2"
      },
      "source": [
        "# Problem 1\n",
        "Bir sayının 7'ye bölünebilir olup olmadığını kontrol etmek \n",
        "için bir program yazın.\n",
        "\n",
        "İpucu: Mod operatörünü (%) kullanabilirsiniz."
      ]
    },
    {
      "cell_type": "code",
      "execution_count": 1,
      "metadata": {
        "id": "NGjvNwKx_Te7"
      },
      "outputs": [
        {
          "name": "stdout",
          "output_type": "stream",
          "text": [
            "The number that you entered can divisible with 7.\n"
          ]
        }
      ],
      "source": [
        "# 1.Problemin Çözümünü Buraya Yazınız\n",
        "number = int(input(\"Enter a number: \"))\n",
        "\n",
        "if number % 7 == 0:\n",
        "    print(\"The number that you entered can divisible with 7.\")\n",
        "else:\n",
        "    print(\"The number that you entered cannot divisible with 7.\")"
      ]
    },
    {
      "cell_type": "markdown",
      "metadata": {
        "id": "Kg3qiBAI_Te8"
      },
      "source": [
        "# Problem 2\n",
        "Kullanıcıdan vize ve final notu isteyin. Girilen vize notunun %40’ı ve \n",
        "girilen finalnotunun ise %60’ı alınarak yıl sonu not ortalaması hesaplanacaktır. \n",
        "\n",
        "Bu not ortalaması eğer 85 ve üzeri ise AA, \n",
        "\n",
        "75 ve 85 arasında ise BA, \n",
        "\n",
        "70 ve 75 arasında ise BB, \n",
        "\n",
        "65 ve 70 arasında ise CB,\n",
        "\n",
        "60 ve 65 arasında ise CC,\n",
        "\n",
        "55 ve 60 arasında ise DC,\n",
        "\n",
        "50 ve 55 arasında ise DD olarak hesaplanacaktır. \n",
        "\n",
        "Bu öğrencinin yıl sonu toplam notu 50’nin altında ise FF ile dersten kalacaktır. \n",
        "\n",
        "Ayrıca öğrencinin final notu 50’nin altında ise direkt FF ile kalacaktır."
      ]
    },
    {
      "cell_type": "code",
      "execution_count": 25,
      "metadata": {
        "id": "MXTtCxI1_Te8"
      },
      "outputs": [
        {
          "name": "stdout",
          "output_type": "stream",
          "text": [
            "Your grade is FF.\n"
          ]
        }
      ],
      "source": [
        "# 2.Problemin Çözümünü Buraya Yazınız\n",
        "midterm_score = float(input(\"Enter your midterm result: \"))\n",
        "final_score = float(input(\"Enter your final result: \"))\n",
        "total_score = (midterm_score*40/100) + (final_score*60/100)\n",
        "\n",
        "if final_score < 50:\n",
        "    print(\"Your grade is FF.\")\n",
        "\n",
        "else:\n",
        "    if total_score >= 85:\n",
        "        print(\"Your grade is AA.\")\n",
        "    elif 75 <= total_score < 85:\n",
        "        print(\"Your grade is BA.\")\n",
        "    elif 70 <= total_score < 75:\n",
        "        print(\"Your grade is BB.\")\n",
        "    elif 65 <= total_score < 70:\n",
        "        print(\"Your grade is CB.\")\n",
        "    elif 60 <= total_score < 65:\n",
        "        print(\"Your grade is CC.\")\n",
        "    elif 55 <= total_score < 60:\n",
        "        print(\"Your grade is DC.\")\n",
        "    elif 50 <= total_score < 55:\n",
        "        print(\"Your grade is DD.\")\n",
        "    elif total_score < 50:\n",
        "        print(\"Your grade is FF.\")"
      ]
    },
    {
      "cell_type": "markdown",
      "metadata": {
        "id": "tAoRYCTC_Te8"
      },
      "source": [
        "# Problem 3\n",
        "İki YetGenli Zirve'de karşılaşıyorlar. Birbirlerini tanımak için sorular soruyorlar. Birbirlerine yaşlarını soruyorlar. Akıllarına bir Python programı yazıp, yaşlarını ve isimlerini giriyorlar. Büyük olanın yaşını ekrana yazdıran programı yazıyorlar. Sende bu iki YetGenli'ye destek olmak ister misin?\n",
        "\n",
        "```\n",
        "Birinci YetGenlinin ismi: Ahmet\n",
        "Birinci YetGenlinin yaşı : 20\n",
        "İkinci YetGenlinin ismi: Mehmet\n",
        "İkinci YetGenlinin yaşı : 25\n",
        "Mehmet'in yaşı daha büyük ve yaşı 25'tir.\n",
        "```"
      ]
    },
    {
      "cell_type": "code",
      "execution_count": 18,
      "metadata": {
        "id": "bPjE8W0i_Te8"
      },
      "outputs": [
        {
          "name": "stdout",
          "output_type": "stream",
          "text": [
            "Name of First YetGenli Mahmut\n",
            "Age of First YetGenli 18\n",
            "Name of First YetGenli Zerife\n",
            "Age of First YetGenli 25\n",
            "Zerife is older than Mahmut and he/she is 25.\n"
          ]
        }
      ],
      "source": [
        "# 3.Problemin Çözümünü Buraya Yazınız\n",
        "first_YetGenli = input(\"Enter your name:\")\n",
        "first_age = int(input(\"Enter your age:\"))\n",
        "second_YetGenli = input(\"Enter your name:\")\n",
        "second_age = int(input(\"Enter your age:\"))\n",
        "\n",
        "print(f\"Name of First YetGenli {first_YetGenli}\")\n",
        "print(f\"Age of First YetGenli {first_age}\")\n",
        "print(f\"Name of First YetGenli {second_YetGenli}\")\n",
        "print(f\"Age of First YetGenli {second_age}\")\n",
        "\n",
        "if first_age > second_age:\n",
        "    print(f\"{first_YetGenli} is older than {second_YetGenli} and he/she is {first_age}.\")\n",
        "elif first_age < second_age:\n",
        "    print(f\"{second_YetGenli} is older than {first_YetGenli} and he/she is {second_age}.\")\n",
        "else:\n",
        "    print(f\"{first_YetGenli} and {second_YetGenli} are the same age, they are {second_age} years old.\")\n"
      ]
    },
    {
      "cell_type": "markdown",
      "metadata": {
        "id": "zBVv8Tyg_Te9"
      },
      "source": [
        "# Problem 4\n",
        "Pandemi döneminde AVM'lerde ateş ölçümü yapılıyor. AVM'ye giren kişinin ateş ölçümü 37.5 derecenin altında ise girişe izin veriliyor. 37.5 derecenin üstünde ise girişe izin verilmiyor. AVM'ye girişe izin verilip verilmediğini ekrana yazdıran bir program yazın.\n",
        "\n",
        "Program sonunda şöyle bir çıktı elde etmelisiniz:\n",
        "\n",
        "```\n",
        "Ateşiniz 37.5 derece. AVM'ye girebilirsin! Maske takmayı unutma!\n",
        "Ateşiniz 37.6 derece. AVM'ye giremezsin! Hemen evine dön!\n",
        "```"
      ]
    },
    {
      "cell_type": "code",
      "execution_count": null,
      "metadata": {
        "id": "TSAXs8et_Te9"
      },
      "outputs": [],
      "source": [
        "# 4.Problemin Çözümünü Buraya Yazınız\n",
        "fever_score = float(input(\"Please enter the temperature: \"))\n",
        "\n",
        "if fever_score < 37.5:\n",
        "    print(f\"Your fever is {fever_score}, therefore you can enter the Mall! Please do not forget the use mask.\") \n",
        "else:\n",
        "    print(f\"Your fever is {fever_score}, therefore you cannot enter the Mall! Please go your home to recevor.\")"
      ]
    },
    {
      "cell_type": "markdown",
      "metadata": {
        "id": "6AEkZrDt_Te9"
      },
      "source": [
        "# Problem 5\n",
        "YetGen bir spor kulübüyle sponsorluk anlaşması yapıyor. Kulüp, sponsorluk anlaşmasına göre her YetGen liderinin beden kitle indeksini hesaplamak istiyor. Spor kulübü, beden kitle indeksini hesaplamak için YetGen Jump Python liderlerinden Berkcan ve Ahmet'i arıyor. Berkcan ve Ahmet, kulübe yardımcı olmak için bir Python programı yazıyorlar. Sende bu iki YetGen liderine destek olmak ister misin?\n",
        "\n",
        "Kullanıcıdan alınan boy ve kilo değerlerine göre beden kitle indeksini hesaplayın ve şu kurallara göre ekrana şu yazıları yazdırın.\n",
        "\n",
        "\n",
        "Beden Kitle İndeksi, kişinin ağırlığının (kg olarak) boyunun karesine (m olarak) bölünmesiyle hesaplanır.\n",
        "\n",
        "\n",
        "```\n",
        " BKİ 18.5'un altındaysa -------> Zayıf\n",
        "\n",
        " BKİ 18.5 ile 25 arasındaysa ------> Normal\n",
        "\n",
        " BKİ 25 ile 30 arasındaysa --------> Fazla Kilolu\n",
        "\n",
        " BKİ 30'un üstündeyse -------------> Obez\n",
        "```\n",
        "\n"
      ]
    },
    {
      "cell_type": "code",
      "execution_count": 31,
      "metadata": {
        "id": "t-XPI_u0_Te-"
      },
      "outputs": [
        {
          "name": "stdout",
          "output_type": "stream",
          "text": [
            "Your Body Mass Index is 0.0002958579881656805 so, you are weak.\n"
          ]
        }
      ],
      "source": [
        "# 5.Problemin Çözümünü Buraya Yazınız\n",
        "user_weight = float(input(\"Enter your weight: \"))\n",
        "user_height = float(input(\"Enter your height: \"))\n",
        "\n",
        "body_mass_index = user_height / user_weight**2\n",
        "\n",
        "if body_mass_index < 18.5:\n",
        "    print(f\"Your Body Mass Index is {body_mass_index} so, you are weak.\")\n",
        "elif 18.5 <= body_mass_index < 25:\n",
        "     print(f\"Your Body Mass Index is {body_mass_index} so, you are normal.\")\n",
        "elif 25 <= body_mass_index < 30:\n",
        "     print(f\"Your Body Mass Index is {body_mass_index} so, you are overweight.\")\n",
        "else:\n",
        "     print(f\"Your Body Mass Index is {body_mass_index} so, you are obese.\")"
      ]
    },
    {
      "cell_type": "markdown",
      "metadata": {
        "id": "oFsvQyaO_Te-"
      },
      "source": [
        "# Problem 6\n",
        "Kullanıcıdan isim, yaş ve eğitim bilgilerini isteyip ehliyet alabilme  durumunu kontrol ediniz. \n",
        "\n",
        "Ehliyet alma koşulu en az 18 yaşında ve eğitim durumu lise ya da üniversite olmalıdır. "
      ]
    },
    {
      "cell_type": "code",
      "execution_count": 16,
      "metadata": {
        "id": "Tu2mcgco_Te-"
      },
      "outputs": [
        {
          "name": "stdout",
          "output_type": "stream",
          "text": [
            "Your all information is enough to apply driving licence process.\n"
          ]
        }
      ],
      "source": [
        "# 6.Problemin Çözümünü Buraya Yazınız\n",
        "education = [\"Primary School\", \"Highschool\", \"University\"]\n",
        "\n",
        "user_name = input(\"Enter your name: \")\n",
        "user_age = int(input(\"Enter your age: \"))\n",
        "education_status = input(f\"Enter your education status ({education[0]}, {education[1]} or {education[2]}): \")\n",
        "\n",
        "while True:\n",
        "    if user_age < 18 and education_status == \"Primary School\":\n",
        "        print(f\"You are {user_age} years old and have {education_status} degree. Therefore, you cannot apply a driving licence process.\")\n",
        "        break\n",
        "\n",
        "    elif user_age < 18:\n",
        "        print(f\"You are {user_age} years old. Therefore, you cannot apply a driving licence process.\")\n",
        "        break\n",
        "\n",
        "    else:\n",
        "        if education_status == \"Primary School\":\n",
        "            print(f\"You have {education_status} degree. Therefore, you cannot apply a driving licence process.\")\n",
        "            break\n",
        "\n",
        "        else:\n",
        "            print(f\"Your all information is enough to apply driving licence process.\")\n",
        "            break"
      ]
    },
    {
      "cell_type": "markdown",
      "metadata": {
        "id": "eUkxVSAE_Te_"
      },
      "source": [
        "# Problem 7\n",
        "Bir yılın artık yıl olup olmadığını kontrol etmek için bir program yazın. \n",
        "Artık yıl kuralı:\n",
        "\n",
        "a) Eğer yılın son iki basamağı (00) ile bitmiyor ve yalnızca 4'e tam bölünüyorsa artık yıldır. Ya da, \n",
        "\n",
        "b) Eğer yıl 400'e tam bölünüyorsa artık yıldır.\n",
        "\n",
        "**Örneğin**\n",
        "```\n",
        "2017 artık yıl değildir.\n",
        "1900 artık yıl değildir\n",
        "2012 artık yıldır.\n",
        "2000 artık yıldır.\n",
        "```"
      ]
    },
    {
      "cell_type": "code",
      "execution_count": 26,
      "metadata": {
        "id": "4uWh8qUL_Te_"
      },
      "outputs": [
        {
          "ename": "IndexError",
          "evalue": "string index out of range",
          "output_type": "error",
          "traceback": [
            "\u001b[1;31m---------------------------------------------------------------------------\u001b[0m",
            "\u001b[1;31mIndexError\u001b[0m                                Traceback (most recent call last)",
            "Cell \u001b[1;32mIn[26], line 8\u001b[0m\n\u001b[0;32m      3\u001b[0m year \u001b[39m=\u001b[39m \u001b[39m\"\u001b[39m\u001b[39m1999\u001b[39m\u001b[39m\"\u001b[39m\n\u001b[0;32m      4\u001b[0m all_numbers \u001b[39m=\u001b[39m [index \u001b[39mfor\u001b[39;00m index \u001b[39min\u001b[39;00m year]\n\u001b[1;32m----> 8\u001b[0m \u001b[39mprint\u001b[39m(all_numbers[\u001b[39m0\u001b[39;49m][\u001b[39m1\u001b[39;49m])\n\u001b[0;32m     11\u001b[0m \u001b[39m# print(year[string_index])\u001b[39;00m\n",
            "\u001b[1;31mIndexError\u001b[0m: string index out of range"
          ]
        }
      ],
      "source": [
        "# 7.Problemin Çözümünü Buraya Yazınız\n",
        "# year = str(input(\"Enter a year: \"))\n",
        "year = \"1999\"\n",
        "all_numbers = [index for index in year]\n",
        "\n",
        "while True:\n",
        "    if year % 400 == 0:\n",
        "        print(\"This year is a leap year!\")\n",
        "        break\n",
        "\n",
        "    else:\n",
        "        for index, number in enumerate(all_numbers):\n",
        "            if index[] == :\n",
        "                 if number\n",
        "    \n",
        "\n",
        "\n",
        "# print(year[string_index])"
      ]
    }
  ],
  "metadata": {
    "colab": {
      "provenance": []
    },
    "kernelspec": {
      "display_name": "Python 3.10.5 64-bit",
      "language": "python",
      "name": "python3"
    },
    "language_info": {
      "codemirror_mode": {
        "name": "ipython",
        "version": 3
      },
      "file_extension": ".py",
      "mimetype": "text/x-python",
      "name": "python",
      "nbconvert_exporter": "python",
      "pygments_lexer": "ipython3",
      "version": "3.10.10"
    },
    "orig_nbformat": 4,
    "vscode": {
      "interpreter": {
        "hash": "5026d2d6e7aaaaba093def813beadff083d8733e4a511af01735cbabd156995d"
      }
    }
  },
  "nbformat": 4,
  "nbformat_minor": 0
}
