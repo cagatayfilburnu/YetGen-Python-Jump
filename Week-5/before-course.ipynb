{
 "cells": [
  {
   "cell_type": "code",
   "execution_count": 1,
   "metadata": {},
   "outputs": [
    {
     "name": "stdout",
     "output_type": "stream",
     "text": [
      "week5\n"
     ]
    }
   ],
   "source": [
    "print(\"week5\")"
   ]
  }
 ],
 "metadata": {
  "kernelspec": {
   "display_name": "Python 3",
   "language": "python",
   "name": "python3"
  },
  "language_info": {
   "codemirror_mode": {
    "name": "ipython",
    "version": 3
   },
   "file_extension": ".py",
   "mimetype": "text/x-python",
   "name": "python",
   "nbconvert_exporter": "python",
   "pygments_lexer": "ipython3",
   "version": "3.10.9"
  },
  "orig_nbformat": 4,
  "vscode": {
   "interpreter": {
    "hash": "9b9a3a9f1f065bcb08eace60fb013d855e2c6e92f3899f0eb1c11e8db0619566"
   }
  }
 },
 "nbformat": 4,
 "nbformat_minor": 2
}
